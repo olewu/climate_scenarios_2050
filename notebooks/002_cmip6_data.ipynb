{
 "cells": [
  {
   "cell_type": "code",
   "execution_count": 1,
   "metadata": {},
   "outputs": [],
   "source": [
    "import xarray as xr\n",
    "from climate_scenarios_2050 import config\n",
    "from cdo import *\n",
    "from pathlib import Path\n",
    "import subprocess as sbp"
   ]
  },
  {
   "cell_type": "code",
   "execution_count": null,
   "metadata": {},
   "outputs": [],
   "source": [
    "tempPath = '/tmp/'\n",
    "cdo = Cdo()\n",
    "# cdo.cleanTempDir()\n",
    "cdo.debug = False"
   ]
  },
  {
   "cell_type": "code",
   "execution_count": 3,
   "metadata": {},
   "outputs": [],
   "source": [
    "test_file = str(config.proj_base/'data/CMIP6/historical/ACCESS-CM2/psl/psl_Amon_ACCESS-CM2_historical_r1i1p1f1_gn_185001-201412.nc')"
   ]
  },
  {
   "cell_type": "code",
   "execution_count": null,
   "metadata": {},
   "outputs": [],
   "source": [
    "cdo.sinfon(input=test_file)"
   ]
  },
  {
   "cell_type": "code",
   "execution_count": 4,
   "metadata": {},
   "outputs": [
    {
     "name": "stdout",
     "output_type": "stream",
     "text": [
      "cdo    remapbil: Bilinear weights from lonlat (192x144) to lonlat (180x90) grid\n"
     ]
    },
    {
     "data": {
      "text/plain": [
       "CompletedProcess(args=['cdo', 'remapbil,r180x90', '/projects/NS9873K/owul/projects/climate_scenarios_2050/data/CMIP6/historical/ACCESS-CM2/psl/psl_Amon_ACCESS-CM2_historical_r1i1p1f1_gn_185001-201412.nc', '/projects/NS9873K/owul/projects/climate_scenarios_2050/tst1.nc'], returncode=0)"
      ]
     },
     "execution_count": 4,
     "metadata": {},
     "output_type": "execute_result"
    }
   ],
   "source": [
    "ofile_ = str(config.proj_base/'tst1.nc')\n",
    "sbp.run(\n",
    "    [\n",
    "        'cdo',\n",
    "        'remapbil,r180x90',\n",
    "        test_file,\n",
    "        ofile_\n",
    "    ]\n",
    ")"
   ]
  },
  {
   "cell_type": "code",
   "execution_count": 9,
   "metadata": {},
   "outputs": [
    {
     "data": {
      "text/plain": [
       "'/projects/NS9873K/owul/projects/climate_scenarios_2050/tst2.nc'"
      ]
     },
     "execution_count": 9,
     "metadata": {},
     "output_type": "execute_result"
    }
   ],
   "source": [
    "ofile = str(config.proj_base/'tst2.nc')\n",
    "cdo.remapbil('r180x90',input=test_file,output=ofile)"
   ]
  },
  {
   "cell_type": "code",
   "execution_count": null,
   "metadata": {},
   "outputs": [],
   "source": [
    "[key for key, value in cdo.operators.items() if key.startswith('remap')]"
   ]
  },
  {
   "cell_type": "code",
   "execution_count": 2,
   "metadata": {},
   "outputs": [],
   "source": [
    "ds = xr.open_dataset(config.proj_base/'data/CMIP6/historical/ACCESS-CM2/psl/psl_Amon_ACCESS-CM2_historical_r1i1p1f1_gn_185001-201412.nc')"
   ]
  }
 ],
 "metadata": {
  "kernelspec": {
   "display_name": "climate_scenarios_2050",
   "language": "python",
   "name": "python3"
  },
  "language_info": {
   "codemirror_mode": {
    "name": "ipython",
    "version": 3
   },
   "file_extension": ".py",
   "mimetype": "text/x-python",
   "name": "python",
   "nbconvert_exporter": "python",
   "pygments_lexer": "ipython3",
   "version": "3.10.16"
  }
 },
 "nbformat": 4,
 "nbformat_minor": 2
}
